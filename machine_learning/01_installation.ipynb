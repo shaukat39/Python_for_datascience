{
 "cells": [
  {
   "cell_type": "markdown",
   "metadata": {},
   "source": [
    "## Steps\n",
    "1. Create a new conda environment `python_ml`\n",
    "2. Install the following packages:\n",
    "   1. Python conda install oython\n",
    "      1. pandas\n",
    "      2. numpy\n",
    "      3. matplotlib\n",
    "      4. seaborn\n",
    "      5. scipy\n",
    "      6. sciit-learn\n",
    "      7. jupyter\n",
    "      8. openpyxl\n",
    "      9. plotly\n",
    "   \n",
    "### pip install.........."
   ]
  },
  {
   "cell_type": "code",
   "execution_count": 1,
   "metadata": {},
   "outputs": [],
   "source": [
    "import pandas as pd\n",
    "import numpy as np\n",
    "import matplotlib.pyplot as plt\n"
   ]
  },
  {
   "cell_type": "code",
   "execution_count": null,
   "metadata": {},
   "outputs": [],
   "source": []
  }
 ],
 "metadata": {
  "kernelspec": {
   "display_name": "Python 3",
   "language": "python",
   "name": "python3"
  },
  "language_info": {
   "codemirror_mode": {
    "name": "ipython",
    "version": 3
   },
   "file_extension": ".py",
   "mimetype": "text/x-python",
   "name": "python",
   "nbconvert_exporter": "python",
   "pygments_lexer": "ipython3",
   "version": "3.11.11"
  }
 },
 "nbformat": 4,
 "nbformat_minor": 2
}
