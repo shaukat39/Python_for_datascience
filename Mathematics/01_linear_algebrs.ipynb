{
 "cells": [
  {
   "cell_type": "markdown",
   "metadata": {},
   "source": [
    "## Linear Algebra in Python"
   ]
  },
  {
   "cell_type": "code",
   "execution_count": 1,
   "metadata": {},
   "outputs": [],
   "source": [
    "#pip install numpy"
   ]
  },
  {
   "cell_type": "code",
   "execution_count": 2,
   "metadata": {},
   "outputs": [],
   "source": [
    "import numpy as np"
   ]
  },
  {
   "cell_type": "code",
   "execution_count": 3,
   "metadata": {},
   "outputs": [],
   "source": [
    "# Coefficient matrix A\n",
    "# A = np.array([[2,3], [5,4]]) # 2*2 matrix\n",
    "# A"
   ]
  },
  {
   "cell_type": "code",
   "execution_count": 4,
   "metadata": {},
   "outputs": [],
   "source": [
    "# Constant matrix B\n",
    "# B=np.array([8,20])\n",
    "# B"
   ]
  },
  {
   "cell_type": "code",
   "execution_count": 5,
   "metadata": {},
   "outputs": [],
   "source": [
    "# Solve for x\n",
    "# x=np.linalg.solve(A,B)\n",
    "# x"
   ]
  },
  {
   "cell_type": "markdown",
   "metadata": {},
   "source": [
    "----------"
   ]
  },
  {
   "cell_type": "markdown",
   "metadata": {},
   "source": [
    "### Solving Complex Equations"
   ]
  },
  {
   "cell_type": "markdown",
   "metadata": {},
   "source": [
    "\\[\n",
    "\\begin{align*}\n",
    "(1+2i)x + (2-i)y &= 4+i \\\\\n",
    "(3-i)x + 4y &= 3+4i\n",
    "\\end{align*}\n",
    "\\]"
   ]
  },
  {
   "cell_type": "code",
   "execution_count": 6,
   "metadata": {},
   "outputs": [
    {
     "name": "stdout",
     "output_type": "stream",
     "text": [
      "Matrix A: \n",
      " [[1.+2.j 2.-1.j]\n",
      " [3.-1.j 4.+0.j]]\n"
     ]
    }
   ],
   "source": [
    "# Coefficient matrix A with complex numbers\n",
    "A=np.array([[1+2j, 2-1j],[3-1j, 4]])\n",
    "print(\"Matrix A: \\n\", A)"
   ]
  },
  {
   "cell_type": "code",
   "execution_count": 12,
   "metadata": {},
   "outputs": [
    {
     "data": {
      "text/plain": [
       "array([4.+1.j, 3.+4.j])"
      ]
     },
     "execution_count": 12,
     "metadata": {},
     "output_type": "execute_result"
    }
   ],
   "source": [
    "# Constant matrix B with complex numbers\n",
    "B = np.array([4+1j,3+4j])\n",
    "B\n"
   ]
  },
  {
   "cell_type": "code",
   "execution_count": 13,
   "metadata": {},
   "outputs": [
    {
     "data": {
      "text/plain": [
       "array([-0.11176471-0.45294118j,  0.94705882+1.31176471j])"
      ]
     },
     "execution_count": 13,
     "metadata": {},
     "output_type": "execute_result"
    }
   ],
   "source": [
    "# Solving for x in the complex case\n",
    "x_complex=np.linalg.solve(A,B)\n",
    "x_complex"
   ]
  },
  {
   "cell_type": "markdown",
   "metadata": {},
   "source": [
    "--------"
   ]
  },
  {
   "cell_type": "markdown",
   "metadata": {},
   "source": [
    "SVD in Python"
   ]
  },
  {
   "cell_type": "code",
   "execution_count": 14,
   "metadata": {},
   "outputs": [
    {
     "data": {
      "text/plain": [
       "array([[0.01504992, 0.49398315, 0.54233706],\n",
       "       [0.27594025, 0.31538862, 0.41199028],\n",
       "       [0.72718923, 0.67900223, 0.2802773 ],\n",
       "       [0.46521995, 0.31978405, 0.56026174]])"
      ]
     },
     "execution_count": 14,
     "metadata": {},
     "output_type": "execute_result"
    }
   ],
   "source": [
    "# generate a matrix of 4x3\n",
    "A=np.random.rand(4,3)\n",
    "A"
   ]
  },
  {
   "cell_type": "code",
   "execution_count": 16,
   "metadata": {},
   "outputs": [
    {
     "name": "stdout",
     "output_type": "stream",
     "text": [
      "U:\n",
      " [[-0.41232857  0.73488584 -0.49749568  0.20597572]\n",
      " [-0.38476756  0.17241498  0.20818939 -0.88254415]\n",
      " [-0.6486105  -0.64824324 -0.39380968  0.06323813]\n",
      " [-0.51111984  0.09998291  0.74435822  0.41796024]]\n",
      "--------------------------------------------------------------\n",
      "Sigma:\n",
      " [1.50373908 0.50249374 0.26642328]\n",
      "---------------------------------------------------------------\n",
      "VT:\n",
      " [[-0.5465204  -0.61772061 -0.56545265]\n",
      " [-0.72885534  0.01833512  0.68442218]\n",
      " [ 0.41241404 -0.78618387  0.46024948]]\n"
     ]
    }
   ],
   "source": [
    "# Let's apply SVD\n",
    "U,Sigma,VT=np.linalg.svd(A)\n",
    "print(\"U:\\n\", U)\n",
    "print(\"--------------------------------------------------------------\")\n",
    "print(\"Sigma:\\n\", Sigma)\n",
    "print(\"---------------------------------------------------------------\")\n",
    "print(\"VT:\\n\", VT)"
   ]
  },
  {
   "cell_type": "code",
   "execution_count": 17,
   "metadata": {},
   "outputs": [
    {
     "data": {
      "text/plain": [
       "(4, 4)"
      ]
     },
     "execution_count": 17,
     "metadata": {},
     "output_type": "execute_result"
    }
   ],
   "source": [
    "U.shape"
   ]
  },
  {
   "cell_type": "code",
   "execution_count": 18,
   "metadata": {},
   "outputs": [
    {
     "data": {
      "text/plain": [
       "(3,)"
      ]
     },
     "execution_count": 18,
     "metadata": {},
     "output_type": "execute_result"
    }
   ],
   "source": [
    "Sigma.shape"
   ]
  },
  {
   "cell_type": "code",
   "execution_count": 19,
   "metadata": {},
   "outputs": [
    {
     "data": {
      "text/plain": [
       "(3, 3)"
      ]
     },
     "execution_count": 19,
     "metadata": {},
     "output_type": "execute_result"
    }
   ],
   "source": [
    "VT.shape"
   ]
  },
  {
   "cell_type": "markdown",
   "metadata": {},
   "source": [
    "-----"
   ]
  },
  {
   "cell_type": "markdown",
   "metadata": {},
   "source": [
    "## Vectors in Python"
   ]
  },
  {
   "cell_type": "code",
   "execution_count": 20,
   "metadata": {},
   "outputs": [],
   "source": [
    "import numpy as np\n",
    "import matplotlib.pyplot as plt\n"
   ]
  },
  {
   "cell_type": "code",
   "execution_count": 21,
   "metadata": {},
   "outputs": [
    {
     "data": {
      "text/plain": [
       "array([2, 3])"
      ]
     },
     "execution_count": 21,
     "metadata": {},
     "output_type": "execute_result"
    }
   ],
   "source": [
    "# create a vector\n",
    "v=np.array([2,3])\n",
    "v"
   ]
  },
  {
   "cell_type": "code",
   "execution_count": 23,
   "metadata": {},
   "outputs": [
    {
     "data": {
      "image/png": "[encoded data removed]",
      "text/plain": [
       "<Figure size 640x480 with 1 Axes>"
      ]
     },
     "metadata": {},
     "output_type": "display_data"
    }
   ],
   "source": [
    "# plot the vector v\n",
    "plt.figure()\n",
    "plt.quiver(0, 0, v[0], v[1], angles='xy',scale_units='xy',scale=1,color='r')\n",
    "plt.xlim(0,5)\n",
    "plt.ylim(0,5)\n",
    "plt.grid()\n",
    "plt.title('2D Vector')\n",
    "plt.xlabel('X axis')\n",
    "plt.ylabel('Y axis')\n",
    "plt.gca().set_aspect('equal', adjustable='box')\n",
    "plt.show()"
   ]
  },
  {
   "cell_type": "markdown",
   "metadata": {},
   "source": [
    "-----"
   ]
  },
  {
   "cell_type": "markdown",
   "metadata": {},
   "source": [
    "## Linear Transformation"
   ]
  },
  {
   "cell_type": "code",
   "execution_count": 26,
   "metadata": {},
   "outputs": [
    {
     "data": {
      "image/png": "[encoded data removed]",
      "text/plain": [
       "<Figure size 640x480 with 1 Axes>"
      ]
     },
     "metadata": {},
     "output_type": "display_data"
    }
   ],
   "source": [
    "# Define the rotation matrix for 45 degree rotation\n",
    "theta=np.radians(45) # Convert angle to radians\n",
    "rotation_matrix = np.array([[np.cos(theta), -np.sin(theta)],\n",
    "                   [np.sin(theta), np.cos(theta)]])\n",
    "\n",
    "# Define the translation vector\n",
    "v_transformed=np.dot(rotation_matrix,v)\n",
    "\n",
    "plt.figure()\n",
    "plt.quiver(0, 0, v[0], v[1], angles='xy',scale_units='xy',scale=1,color='r', label='Original vector')\n",
    "plt.quiver(0, 0, v_transformed[0], v_transformed[1],angles='xy',scale_units='xy',scale=1,color=\"blue\",label='Transformed vector')\n",
    "plt.xlim(0,5)\n",
    "plt.ylim(0,5)\n",
    "plt.grid()\n",
    "plt.title('2D Vector Transformation')\n",
    "plt.xlabel('X axis')\n",
    "plt.ylabel('Y axis')\n",
    "plt.legend()\n",
    "plt.gca().set_aspect('equal', adjustable='box')\n",
    "plt.show()"
   ]
  },
  {
   "cell_type": "code",
   "execution_count": null,
   "metadata": {},
   "outputs": [],
   "source": []
  }
 ],
 "metadata": {
  "kernelspec": {
   "display_name": "Python 3",
   "language": "python",
   "name": "python3"
  },
  "language_info": {
   "codemirror_mode": {
    "name": "ipython",
    "version": 3
   },
   "file_extension": ".py",
   "mimetype": "text/x-python",
   "name": "python",
   "nbconvert_exporter": "python",
   "pygments_lexer": "ipython3",
   "version": "3.13.2"
  }
 },
 "nbformat": 4,
 "nbformat_minor": 2
}
