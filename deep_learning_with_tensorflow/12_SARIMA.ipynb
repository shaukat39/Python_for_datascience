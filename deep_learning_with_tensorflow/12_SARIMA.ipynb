{
 "cells": [
  {
   "cell_type": "markdown",
   "id": "0c990e33",
   "metadata": {},
   "source": [
    "## Time Series Forecasting of Stock Market Data with ARIMA in Python"
   ]
  },
  {
   "cell_type": "markdown",
   "id": "2af70932",
   "metadata": {},
   "source": [
    "### 1. Time Series Data\n",
    "\n",
    "Time series data is a type of data that is collected over time at regular intervals. It is a sequence of data points that are ordered chronologically and can be used to analyze trends, patterns, and behaviors over time. Time series data can be collected from a variety of sources, such as sensors, financial markets, weather stations, and social media platforms.\n",
    "\n",
    "Examples of time series data include stock prices, temperature readings, website traffic, and sales data. Time series data can be analyzed using various statistical and machine learning techniques, such as regression analysis, ARIMA models, and deep learning models.\n",
    "\n",
    "Time series data is often used in forecasting and prediction applications, where the goal is to predict future values based on past observations. Time series analysis can also be used to identify anomalies, trends, and seasonality in the data, which can provide insights into the underlying processes that generate the data.\n",
    "\n",
    "Overall, time series data is an important type of data that is used in many different fields, including finance, economics, engineering, and social sciences.\n",
    "\n",
    "- Time series data is a sequence of data points collected over time that can be used to analyze trends and patterns. It can be collected from various sources and analyzed using statistical and machine learning techniques.\n",
    "- Time series forecasting is the process of predicting future values based on past observations. Time series data is used in many different fields, including finance, economics, engineering, and social sciences.\n",
    "\n",
    "### Stock Market Data scraping in Python"
   ]
  },
  {
   "cell_type": "code",
   "execution_count": 1,
   "id": "f4fb5bb8",
   "metadata": {},
   "outputs": [],
   "source": [
    "# imporot libraries\n",
    "import pandas as pd, numpy as np, matplotlib.pyplot as plt, seaborn as sns\n",
    "import yfinance as yf\n",
    "import datetime as dt\n",
    "from datetime import date, timedelta\n",
    "import plotly.graph_objects as go\n",
    "import plotly.express as px\n",
    "\n",
    "from statsmodels.tsa.stattools import adfuller\n",
    "from statsmodels.tsa.seasonal import seasonal_decompose\n",
    "from statsmodels.tsa.statespace.sarimax import SARIMAX"
   ]
  },
  {
   "cell_type": "code",
   "execution_count": 2,
   "id": "624f2a3c",
   "metadata": {},
   "outputs": [
    {
     "data": {
      "text/plain": [
       "datetime.date(2025, 4, 30)"
      ]
     },
     "execution_count": 2,
     "metadata": {},
     "output_type": "execute_result"
    }
   ],
   "source": [
    "date.today()"
   ]
  },
  {
   "cell_type": "code",
   "execution_count": 3,
   "id": "f5d4a171",
   "metadata": {},
   "outputs": [
    {
     "name": "stdout",
     "output_type": "stream",
     "text": [
      "Your data will be between these dates:  2024-04-30 2025-04-30\n"
     ]
    }
   ],
   "source": [
    "# define the dates to fetch data\n",
    "today = date.today()\n",
    "d1 = today.strftime(\"%Y-%m-%d\")\n",
    "end_date = d1\n",
    "d2 = date.today() - timedelta(days=365)\n",
    "d2 = d2.strftime(\"%Y-%m-%d\")\n",
    "start_date = d2\n",
    "print(\"Your data will be between these dates: \", start_date, end_date)"
   ]
  },
  {
   "cell_type": "code",
   "execution_count": 4,
   "id": "3705b81f",
   "metadata": {},
   "outputs": [
    {
     "name": "stdout",
     "output_type": "stream",
     "text": [
      "YF.download() has changed argument auto_adjust default to True\n"
     ]
    },
    {
     "name": "stderr",
     "output_type": "stream",
     "text": [
      "\n",
      "1 Failed download:\n",
      "['GOOGL']: YFRateLimitError('Too Many Requests. Rate limited. Try after a while.')\n"
     ]
    },
    {
     "data": {
      "text/html": [
       "<div>\n",
       "<style scoped>\n",
       "    .dataframe tbody tr th:only-of-type {\n",
       "        vertical-align: middle;\n",
       "    }\n",
       "\n",
       "    .dataframe tbody tr th {\n",
       "        vertical-align: top;\n",
       "    }\n",
       "\n",
       "    .dataframe thead tr th {\n",
       "        text-align: left;\n",
       "    }\n",
       "\n",
       "    .dataframe thead tr:last-of-type th {\n",
       "        text-align: right;\n",
       "    }\n",
       "</style>\n",
       "<table border=\"1\" class=\"dataframe\">\n",
       "  <thead>\n",
       "    <tr>\n",
       "      <th>Price</th>\n",
       "      <th>Adj Close</th>\n",
       "      <th>Close</th>\n",
       "      <th>High</th>\n",
       "      <th>Low</th>\n",
       "      <th>Open</th>\n",
       "      <th>Volume</th>\n",
       "    </tr>\n",
       "    <tr>\n",
       "      <th>Ticker</th>\n",
       "      <th>GOOGL</th>\n",
       "      <th>GOOGL</th>\n",
       "      <th>GOOGL</th>\n",
       "      <th>GOOGL</th>\n",
       "      <th>GOOGL</th>\n",
       "      <th>GOOGL</th>\n",
       "    </tr>\n",
       "    <tr>\n",
       "      <th>Date</th>\n",
       "      <th></th>\n",
       "      <th></th>\n",
       "      <th></th>\n",
       "      <th></th>\n",
       "      <th></th>\n",
       "      <th></th>\n",
       "    </tr>\n",
       "  </thead>\n",
       "  <tbody>\n",
       "  </tbody>\n",
       "</table>\n",
       "</div>"
      ],
      "text/plain": [
       "Empty DataFrame\n",
       "Columns: [(Adj Close, GOOGL), (Close, GOOGL), (High, GOOGL), (Low, GOOGL), (Open, GOOGL), (Volume, GOOGL)]\n",
       "Index: []"
      ]
     },
     "execution_count": 4,
     "metadata": {},
     "output_type": "execute_result"
    }
   ],
   "source": [
    "# deifne the ticker\n",
    "ticker = 'GOOGL'\n",
    "\n",
    "df = yf.download(ticker, start=start_date, end=end_date, progress=False)\n",
    "df.head()"
   ]
  },
  {
   "cell_type": "code",
   "execution_count": null,
   "id": "f489d955",
   "metadata": {},
   "outputs": [],
   "source": []
  }
 ],
 "metadata": {
  "kernelspec": {
   "display_name": "Python 3",
   "language": "python",
   "name": "python3"
  },
  "language_info": {
   "codemirror_mode": {
    "name": "ipython",
    "version": 3
   },
   "file_extension": ".py",
   "mimetype": "text/x-python",
   "name": "python",
   "nbconvert_exporter": "python",
   "pygments_lexer": "ipython3",
   "version": "3.8.20"
  }
 },
 "nbformat": 4,
 "nbformat_minor": 5
}
